{
 "cells": [
  {
   "cell_type": "code",
   "execution_count": 2,
   "id": "cd5c5207",
   "metadata": {},
   "outputs": [],
   "source": [
    "# импорт библиотек\n",
    "import numpy as np "
   ]
  },
  {
   "cell_type": "code",
   "execution_count": 3,
   "id": "ca50bcb6",
   "metadata": {},
   "outputs": [],
   "source": [
    "text = 'С Новым Годом, друзья!'"
   ]
  },
  {
   "cell_type": "code",
   "execution_count": 25,
   "id": "d6fd0860",
   "metadata": {},
   "outputs": [],
   "source": [
    "def shifr(text):\n",
    "    print ('Сообщение - ', text)\n",
    "    \n",
    "    text_array = []\n",
    "    for i in text:\n",
    "        text_array.append(i.encode('cp1251').hex())\n",
    "    \n",
    "    print('\\nНаше сообщение в 16ричной системе - ', *text_array)\n",
    "    \n",
    "    key_int = np.random.randint(0, 255, len(text))\n",
    "    key_hex = [hex(i)[2:] for i in key_int]\n",
    "    \n",
    "    print('\\nШифр - ', *key_hex)\n",
    "    \n",
    "    text_crypt = []\n",
    "    for i in range(len(text_array)):\n",
    "        text_crypt.append('{:02x}'.format(int(text_array[i], 16)^ int(key_hex[i], 16)))\n",
    "\n",
    "    print('\\nНаше зашифрованное сообщение в 16ричной системе- ', *text_crypt)\n",
    "        \n",
    "    final = bytearray.fromhex(''.join(text_crypt)).decode('cp1251')\n",
    "    \n",
    "    print ('\\nЗашифрованное сообщение - ', final)\n",
    "    \n",
    "    return key_hex, final"
   ]
  },
  {
   "cell_type": "code",
   "execution_count": 29,
   "id": "ee84625e",
   "metadata": {},
   "outputs": [
    {
     "name": "stdout",
     "output_type": "stream",
     "text": [
      "Сообщение -  С Новым Годом, друзья!\n",
      "\n",
      "Наше сообщение в 16ричной системе -  d1 20 cd ee e2 fb ec 20 c3 ee e4 ee ec 2c 20 e4 f0 f3 e7 fc ff 21\n",
      "\n",
      "Шифр -  ba c9 11 19 26 d1 a0 8c 2a 66 57 5c b d6 46 2d f5 1c 2d 70 96 e4\n",
      "\n",
      "Наше зашифрованное сообщение в 16ричной системе-  6b e9 dc f7 c4 2a 4c ac e9 88 b3 b2 e7 fa 66 c9 05 ef ca 8c 69 c5\n",
      "\n",
      "Зашифрованное сообщение -  kйЬчД*L¬й€іІзъfЙ\u0005пКЊiЕ\n"
     ]
    }
   ],
   "source": [
    "key, final = shifr(text)"
   ]
  },
  {
   "cell_type": "code",
   "execution_count": 38,
   "id": "8034f4e1",
   "metadata": {},
   "outputs": [],
   "source": [
    "def deshifr(text, final):\n",
    "    print ('Сообщение - ', text)\n",
    "    print ('\\nЗашифрованное сообщение - ', final)\n",
    "    \n",
    "    text_hex = []\n",
    "    for i in text:\n",
    "        text_hex.append(i.encode('cp1251').hex())\n",
    "    \n",
    "    print('\\nНаше сообщение в 16ричной системе - ', *text_hex)\n",
    "    \n",
    "    final_hex = []\n",
    "    for i in final:\n",
    "        final_hex.append(i.encode('cp1251').hex())\n",
    "    \n",
    "    print('\\nЗашифрованное сообщение в 16ричной системе - ', *final_hex)\n",
    "    \n",
    "    key = [hex(int(i, 16) ^ int(j, 16))[2:] for (i, j) in zip(text_hex, final_hex)]\n",
    "    print(\"\\nКлюч: \", *key)\n",
    "    return key\n",
    "    "
   ]
  },
  {
   "cell_type": "code",
   "execution_count": 39,
   "id": "422ecdd6",
   "metadata": {},
   "outputs": [
    {
     "name": "stdout",
     "output_type": "stream",
     "text": [
      "Сообщение -  С Новым Годом, друзья!\n",
      "\n",
      "Зашифрованное сообщение -  kйЬчД*L¬й€іІзъfЙ\u0005пКЊiЕ\n",
      "\n",
      "Наше сообщение в 16ричной системе -  d1 20 cd ee e2 fb ec 20 c3 ee e4 ee ec 2c 20 e4 f0 f3 e7 fc ff 21\n",
      "\n",
      "Зашифрованное сообщение в 16ричной системе -  6b e9 dc f7 c4 2a 4c ac e9 88 b3 b2 e7 fa 66 c9 05 ef ca 8c 69 c5\n",
      "\n",
      "Ключ:  ba c9 11 19 26 d1 a0 8c 2a 66 57 5c b d6 46 2d f5 1c 2d 70 96 e4\n"
     ]
    }
   ],
   "source": [
    "keydes = deshifr(text, final)"
   ]
  },
  {
   "cell_type": "code",
   "execution_count": 36,
   "id": "babca365",
   "metadata": {},
   "outputs": [
    {
     "name": "stdout",
     "output_type": "stream",
     "text": [
      "Ключ верен!\n"
     ]
    }
   ],
   "source": [
    "print(\"Ключ верен!\") if key == keydes else print(\"Ключ неверен!\")"
   ]
  },
  {
   "cell_type": "code",
   "execution_count": null,
   "id": "7f60abcd",
   "metadata": {},
   "outputs": [],
   "source": []
  }
 ],
 "metadata": {
  "kernelspec": {
   "display_name": "Python 3",
   "language": "python",
   "name": "python3"
  },
  "language_info": {
   "codemirror_mode": {
    "name": "ipython",
    "version": 3
   },
   "file_extension": ".py",
   "mimetype": "text/x-python",
   "name": "python",
   "nbconvert_exporter": "python",
   "pygments_lexer": "ipython3",
   "version": "3.8.8"
  }
 },
 "nbformat": 4,
 "nbformat_minor": 5
}
